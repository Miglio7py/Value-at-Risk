{
  "nbformat": 4,
  "nbformat_minor": 0,
  "metadata": {
    "colab": {
      "provenance": [],
      "authorship_tag": "ABX9TyNd9EDIaX31BG6JH4grqU3+",
      "include_colab_link": true
    },
    "kernelspec": {
      "name": "python3",
      "display_name": "Python 3"
    },
    "language_info": {
      "name": "python"
    }
  },
  "cells": [
    {
      "cell_type": "markdown",
      "metadata": {
        "id": "view-in-github",
        "colab_type": "text"
      },
      "source": [
        "<a href=\"https://colab.research.google.com/github/Miglio7py/Value-at-Risk/blob/main/VaR_Sliding_Window.ipynb\" target=\"_parent\"><img src=\"https://colab.research.google.com/assets/colab-badge.svg\" alt=\"Open In Colab\"/></a>"
      ]
    },
    {
      "cell_type": "markdown",
      "source": [
        "# **Calcolo VaR con Sliding Windows su dati storici**"
      ],
      "metadata": {
        "id": "CvWWg_3y4YSX"
      }
    },
    {
      "cell_type": "code",
      "execution_count": 40,
      "metadata": {
        "id": "cO3RgvKRjK8u",
        "outputId": "19beb0b8-2b97-4b6e-b720-a12fe9ae1310",
        "colab": {
          "base_uri": "https://localhost:8080/"
        }
      },
      "outputs": [
        {
          "output_type": "stream",
          "name": "stdout",
          "text": [
            "Drive already mounted at /content/drive; to attempt to forcibly remount, call drive.mount(\"/content/drive\", force_remount=True).\n"
          ]
        }
      ],
      "source": [
        "import numpy as np\n",
        "import pandas as pd\n",
        "import datetime as dt\n",
        "import matplotlib.pyplot as plt\n",
        "from scipy.stats import norm\n",
        "from google.colab import drive\n",
        "drive.mount('/content/drive')"
      ]
    },
    {
      "cell_type": "code",
      "source": [
        "adj_close_df = pd.DataFrame()\n",
        "EM35 = pd.read_csv('/content/Dati/Storico EM35.csv')\n",
        "EM710 = pd.read_csv('/content/Dati/Storico EM710.csv')\n",
        "LCWD = pd.read_csv('/content/Dati/Storico LCWD.csv')\n",
        "XMAW = pd.read_csv('/content/Dati/Storico XMAW.csv')\n",
        "\n",
        "adj_close_df['EM35'] = EM35['Ultimo']\n",
        "adj_close_df['EM710'] = EM710['Ultimo']\n",
        "adj_close_df['LCWD'] = LCWD['Ultimo']\n",
        "adj_close_df['XMAW'] = XMAW['Ultimo']\n",
        "\n",
        "adj_close_df = adj_close_df.iloc[::-1].reset_index(drop=True)"
      ],
      "metadata": {
        "id": "tFcfvfxmoMDo"
      },
      "execution_count": 74,
      "outputs": []
    },
    {
      "cell_type": "code",
      "source": [
        "adj_close_df[\"EM35\"] = adj_close_df[\"EM35\"].astype(str).str.replace(\",\", \".\").astype(float).astype(float)\n",
        "adj_close_df[\"EM710\"] = adj_close_df[\"EM710\"].astype(str).str.replace(\",\", \".\").astype(float).astype(float)\n",
        "adj_close_df[\"LCWD\"] = adj_close_df[\"LCWD\"].astype(str).str.replace(\",\", \".\").astype(float).astype(float)\n",
        "adj_close_df[\"XMAW\"] = adj_close_df[\"XMAW\"].astype(str).str.replace(\",\", \".\").astype(float).astype(float)"
      ],
      "metadata": {
        "id": "9XUTeZQWkZjS"
      },
      "execution_count": 75,
      "outputs": []
    },
    {
      "cell_type": "code",
      "source": [
        "r_log_df = np.log(adj_close_df / adj_close_df.shift(1))\n",
        "r_log_df = r_log_df.dropna()"
      ],
      "metadata": {
        "id": "xzWwBNeiylHv"
      },
      "execution_count": 77,
      "outputs": []
    },
    {
      "cell_type": "code",
      "source": [
        "weights = np.array([0.0936, 0.209, 0.0778, 0.618])\n",
        "\n",
        "Portfolio = pd.DataFrame()\n",
        "n = 0\n",
        "for i in r_log_df.columns:\n",
        "  r_log_df[i] = r_log_df[i] * weights[n]\n",
        "  n += 1\n",
        "\n",
        "Portfolio = r_log_df.sum(axis=1)"
      ],
      "metadata": {
        "id": "_P-5fkQ8BD4E"
      },
      "execution_count": 78,
      "outputs": []
    },
    {
      "cell_type": "code",
      "source": [
        "days = 24\n",
        "\n",
        "range = Portfolio.rolling(window=days).sum()\n",
        "\n",
        "range = range.dropna()"
      ],
      "metadata": {
        "id": "lghpp_FcNvzm"
      },
      "execution_count": 107,
      "outputs": []
    },
    {
      "cell_type": "code",
      "source": [
        "confidence_interval = 0.95\n",
        "portfolio_value = 4470\n",
        "\n",
        "gainloss = portfolio_value - (portfolio_value * (1+range))\n",
        "VaR = np.percentile(gainloss, 100 * (1 - confidence_interval))\n",
        "print(f\"Nel {confidence_interval*100}% dei casi in {days} giorni sono stati persi meno di: {-VaR} su un portafoglio di {portfolio_value}€\")\n",
        "print(f\"la cifra persa equivale al {((-VaR)/portfolio_value)*100}% del portafoglio.\")\n",
        "\n",
        "plt.hist(gainloss, bins=50, density=True)\n",
        "plt.axvline(x=VaR, color='r')\n",
        "plt.show()"
      ],
      "metadata": {
        "colab": {
          "base_uri": "https://localhost:8080/",
          "height": 465
        },
        "id": "T0Q14RS_Pnn3",
        "outputId": "390f0ccc-66f6-45c4-e326-aea82c037d88"
      },
      "execution_count": 111,
      "outputs": [
        {
          "output_type": "stream",
          "name": "stdout",
          "text": [
            "Nel 0.5% dei casi in 24 giorni sono stati persi meno di: -1024.0712188421298 su un portafoglio di 4470€\n",
            "la cifra persa equivale al -22.90987066760917% del portafoglio.\n"
          ]
        },
        {
          "output_type": "display_data",
          "data": {
            "text/plain": [
              "<Figure size 640x480 with 1 Axes>"
            ],
            "image/png": "[encoded data removed]"
          },
          "metadata": {}
        }
      ]
    }
  ]
}